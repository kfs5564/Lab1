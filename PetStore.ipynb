{
  "nbformat": 4,
  "nbformat_minor": 0,
  "metadata": {
    "colab": {
      "name": "PetStore.ipynb",
      "provenance": [],
      "authorship_tag": "ABX9TyNWgG8FqCTpCXaT7HSyz315",
      "include_colab_link": true
    },
    "kernelspec": {
      "name": "python3",
      "display_name": "Python 3"
    }
  },
  "cells": [
    {
      "cell_type": "markdown",
      "metadata": {
        "id": "view-in-github",
        "colab_type": "text"
      },
      "source": [
        "<a href=\"https://colab.research.google.com/github/kfs5564/Lab1/blob/master/PetStore.ipynb\" target=\"_parent\"><img src=\"https://colab.research.google.com/assets/colab-badge.svg\" alt=\"Open In Colab\"/></a>"
      ]
    },
    {
      "cell_type": "code",
      "metadata": {
        "id": "nN7Io_wbdYns"
      },
      "source": [
        ""
      ],
      "execution_count": null,
      "outputs": []
    },
    {
      "cell_type": "markdown",
      "metadata": {
        "id": "pwWFeFYyePCf"
      },
      "source": [
        "I started by establishing that the store 1 store sells to many customers. The Store houses many animals, and the reason I said 0,1000 for this is because\n",
        "a pet store (I envision a large store) can contain a large variaty of species aswell as lots of those species making having 0 pets to 1000 pets easily\n",
        "possible. I said 1 store gets ratings from individual 1 customers attached to their Customer ID's. CustomerID's 1 purchase 0,50 pets; they don't need to purchase a pet and they could buy up to 50 I envision 50 being fish. 1 customer purchases 1,500 food since maybe they buy a years supply at once.\n",
        "pets 1,100 for a varity of species eat food 1,100 for species type food.\n",
        "Pets 1,50 are sold by employee's  1,1 tied to their SSN and the sale is tied to the employee possible for commission. pets location 0,50 is related to 1 enclosureID.  "
      ]
    },
    {
      "cell_type": "markdown",
      "metadata": {
        "id": "dKFQwDwegowr"
      },
      "source": [
        "![PetStore ER Diagram](https://raw.githubusercontent.com/kfs5564/images/master/PetShop.png)"
      ]
    }
  ]
}
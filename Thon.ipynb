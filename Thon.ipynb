{
  "nbformat": 4,
  "nbformat_minor": 0,
  "metadata": {
    "colab": {
      "name": ".ipynb",
      "provenance": [],
      "include_colab_link": true
    },
    "kernelspec": {
      "name": "python3",
      "display_name": "Python 3"
    }
  },
  "cells": [
    {
      "cell_type": "markdown",
      "metadata": {
        "id": "view-in-github",
        "colab_type": "text"
      },
      "source": [
        "<a href=\"https://colab.research.google.com/github/kfs5564/Lab1/blob/master/Thon.ipynb\" target=\"_parent\"><img src=\"https://colab.research.google.com/assets/colab-badge.svg\" alt=\"Open In Colab\"/></a>"
      ]
    },
    {
      "cell_type": "markdown",
      "metadata": {
        "id": "UblhAIGuGF27",
        "colab_type": "text"
      },
      "source": [
        "# THON\n",
        "\n"
      ]
    },
    {
      "cell_type": "markdown",
      "metadata": {
        "id": "RlR0_Ol4GW3b",
        "colab_type": "text"
      },
      "source": [
        "### what is your idea?"
      ]
    },
    {
      "cell_type": "markdown",
      "metadata": {
        "id": "HU68Zv5MGY97",
        "colab_type": "text"
      },
      "source": [
        "-- Our idea for the project is thon. Thon has a lot of attributes that can be discussed.\n",
        "\n",
        "\n"
      ]
    },
    {
      "cell_type": "markdown",
      "metadata": {
        "id": "45Q0PBrIGiIg",
        "colab_type": "text"
      },
      "source": [
        "### what makes it unique?"
      ]
    },
    {
      "cell_type": "markdown",
      "metadata": {
        "id": "8WOfTAuqGjoc",
        "colab_type": "text"
      },
      "source": [
        "-- Thon isn't a business it is a fundraiser. the funds and awareness of childhood cancer. "
      ]
    },
    {
      "cell_type": "markdown",
      "metadata": {
        "id": "dVrktWdXGl19",
        "colab_type": "text"
      },
      "source": [
        "### is this a brand-new product or business, or are you borrowing from another business?"
      ]
    },
    {
      "cell_type": "markdown",
      "metadata": {
        "id": "MmGY0leUGnaN",
        "colab_type": "text"
      },
      "source": [
        "-- This is a prexisting idea that we are borrowing "
      ]
    },
    {
      "cell_type": "markdown",
      "metadata": {
        "id": "k3oJzVDPGnws",
        "colab_type": "text"
      },
      "source": [
        "### describe a typical business interaction or a day at your business."
      ]
    },
    {
      "cell_type": "markdown",
      "metadata": {
        "id": "GeEKl-lUG1x5",
        "colab_type": "text"
      },
      "source": [
        "-- All commities come together to create methods for fundraising. \n",
        "-- Create advertisements for their fundraising.\n",
        "-- Creating and organizing events to help with fundraising.\n",
        "-- hosting the event of the fundraisers. "
      ]
    },
    {
      "cell_type": "markdown",
      "metadata": {
        "id": "iUFoC5BuGpID",
        "colab_type": "text"
      },
      "source": [
        "### list your 5 entities/tables and for each, provide details about what data will be stored in the entities/tables."
      ]
    },
    {
      "cell_type": "markdown",
      "metadata": {
        "id": "AiZXrfSMGqZm",
        "colab_type": "text"
      },
      "source": [
        "1. Thon weekend\n",
        "\n",
        "-- its a popular event and generates alot of donation and awareness for childhood cancer.\n",
        "\n",
        "2. Commities \n",
        "\n",
        "-- Commities organize and promote the thon events.\n",
        "\n",
        "3. Money raised\n",
        "\n",
        "-- it helps children in need and helps with cancer research and goes to families for paying for the cancer treatment.\n",
        "\n",
        "4. Raising methods\n",
        "\n",
        "-- Main ways thon raises money is thon weekend, partnership with businesses and corps, individual donations.\n",
        "\n",
        "5. Volunteers\n",
        "\n",
        "-- Volunteers include Students, families, and the general public."
      ]
    },
    {
      "cell_type": "markdown",
      "metadata": {
        "id": "h2mJWTewHLSn",
        "colab_type": "text"
      },
      "source": [
        " \n",
        "![Thondraw.io](https://raw.githubusercontent.com/kfs5564/Lab1/master/practice%20file/thon.png)\n"
      ]
    },
    {
      "cell_type": "markdown",
      "metadata": {
        "id": "WFQXwieoHiCe",
        "colab_type": "text"
      },
      "source": [
        "### provide a goal for your project "
      ]
    },
    {
      "cell_type": "markdown",
      "metadata": {
        "id": "cKmoiVHrHnHF",
        "colab_type": "text"
      },
      "source": [
        "-- Our goal is to create an organized database of the vital THON entities. This will hopefully allow for a clear view of the functions each entity preforms and how they help one another function.\n",
        "\n"
      ]
    }
  ]
}
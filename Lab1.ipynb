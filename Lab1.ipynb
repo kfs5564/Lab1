{
  "nbformat": 4,
  "nbformat_minor": 0,
  "metadata": {
    "colab": {
      "name": "Lab1.ipynb",
      "provenance": [],
      "collapsed_sections": [],
      "authorship_tag": "ABX9TyM7AAPSgMm6m5OHqZZpPgPL",
      "include_colab_link": true
    },
    "kernelspec": {
      "name": "python3",
      "display_name": "Python 3"
    }
  },
  "cells": [
    {
      "cell_type": "markdown",
      "metadata": {
        "id": "view-in-github",
        "colab_type": "text"
      },
      "source": [
        "<a href=\"https://colab.research.google.com/github/kfs5564/Lab1/blob/master/Lab1.ipynb\" target=\"_parent\"><img src=\"https://colab.research.google.com/assets/colab-badge.svg\" alt=\"Open In Colab\"/></a>"
      ]
    },
    {
      "cell_type": "markdown",
      "metadata": {
        "id": "ZvMVpy4mfyag",
        "colab_type": "text"
      },
      "source": [
        "## Do you like using Jupyter Notebooks?\n",
        "\n"
      ]
    },
    {
      "cell_type": "markdown",
      "metadata": {
        "id": "hw5d9O6pgX25",
        "colab_type": "text"
      },
      "source": [
        "it is something I have never used. I will try to learn"
      ]
    },
    {
      "cell_type": "markdown",
      "metadata": {
        "id": "sSYg2Rs_goED",
        "colab_type": "text"
      },
      "source": [
        "## What do you want to learn more about in Jupyter Notebooks?"
      ]
    },
    {
      "cell_type": "markdown",
      "metadata": {
        "id": "Z1IMwW4zgu0R",
        "colab_type": "text"
      },
      "source": [
        "I want to learn its advantages. I also want to learn what I can do that I otherwise couldn't"
      ]
    },
    {
      "cell_type": "markdown",
      "metadata": {
        "id": "xeDPyAwKg_io",
        "colab_type": "text"
      },
      "source": [
        "[datsun 240z](https://raw.githubusercontent.com/kfs5564/Lab1/master/practice%20file/datsun.jpg)"
      ]
    }
  ]
}